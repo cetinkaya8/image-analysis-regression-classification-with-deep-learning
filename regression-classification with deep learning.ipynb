{
 "cells": [
  {
   "cell_type": "code",
   "execution_count": 1,
   "metadata": {
    "id": "hv-wl8qUIs79"
   },
   "outputs": [],
   "source": [
    "import numpy as np\n",
    "import pandas as pd\n",
    "import matplotlib.pyplot as plt\n",
    "\n",
    "import tensorflow as tf\n",
    "from tensorflow import keras\n",
    "from tensorflow.keras import layers"
   ]
  },
  {
   "cell_type": "markdown",
   "metadata": {
    "id": "4rUbb3qxJoXc"
   },
   "source": [
    "## Deep Learning for Regression"
   ]
  },
  {
   "cell_type": "code",
   "execution_count": null,
   "metadata": {
    "colab": {
     "base_uri": "https://localhost:8080/"
    },
    "id": "QBMU_BljJroE",
    "outputId": "78303159-fc7b-4b99-f229-58677175e6a9"
   },
   "outputs": [
    {
     "data": {
      "text/plain": [
       "(309, 10)"
      ]
     },
     "execution_count": 4,
     "metadata": {},
     "output_type": "execute_result"
    }
   ],
   "source": [
    "from sklearn.datasets import load_diabetes\n",
    "from sklearn.model_selection import train_test_split\n",
    "\n",
    "data = load_diabetes()\n",
    "\n",
    "X = data[\"data\"]\n",
    "y = data[\"target\"]\n",
    "\n",
    "X_train, X_test, y_train, y_test = train_test_split(X, y, test_size=0.3, random_state=42)\n",
    "\n",
    "mu = X_train.mean(axis = 0)  \n",
    "sigma = X_train.std(axis = 0)\n",
    "\n",
    "X_train = (X_train - mu) / sigma\n",
    "X_test = (X_test - mu) / sigma\n",
    "X_train.shape"
   ]
  },
  {
   "cell_type": "code",
   "execution_count": null,
   "metadata": {
    "colab": {
     "base_uri": "https://localhost:8080/"
    },
    "id": "wFTXlntTKxLs",
    "outputId": "22d538b6-b08f-4d71-ead9-de8db8d97345"
   },
   "outputs": [
    {
     "name": "stdout",
     "output_type": "stream",
     "text": [
      "Epoch 1/100\n",
      "10/10 [==============================] - 3s 3ms/step - loss: 29585.0586 - mape: 99.4074\n",
      "Epoch 2/100\n",
      "10/10 [==============================] - 0s 3ms/step - loss: 29122.5566 - mape: 98.1637\n",
      "Epoch 3/100\n",
      "10/10 [==============================] - 0s 3ms/step - loss: 28544.5312 - mape: 96.6396\n",
      "Epoch 4/100\n",
      "10/10 [==============================] - 0s 4ms/step - loss: 27756.5625 - mape: 94.6738\n",
      "Epoch 5/100\n",
      "10/10 [==============================] - 0s 3ms/step - loss: 26655.3398 - mape: 91.9195\n",
      "Epoch 6/100\n",
      "10/10 [==============================] - 0s 4ms/step - loss: 25181.1719 - mape: 88.2230\n",
      "Epoch 7/100\n",
      "10/10 [==============================] - 0s 3ms/step - loss: 23304.6660 - mape: 83.5659\n",
      "Epoch 8/100\n",
      "10/10 [==============================] - 0s 3ms/step - loss: 20982.2773 - mape: 77.4785\n",
      "Epoch 9/100\n",
      "10/10 [==============================] - 0s 3ms/step - loss: 18232.6250 - mape: 70.0672\n",
      "Epoch 10/100\n",
      "10/10 [==============================] - 0s 3ms/step - loss: 15272.8525 - mape: 62.0314\n",
      "Epoch 11/100\n",
      "10/10 [==============================] - 0s 3ms/step - loss: 12339.0820 - mape: 52.9300\n",
      "Epoch 12/100\n",
      "10/10 [==============================] - 0s 3ms/step - loss: 9631.7119 - mape: 46.5079\n",
      "Epoch 13/100\n",
      "10/10 [==============================] - 0s 3ms/step - loss: 7686.3413 - mape: 41.6312\n",
      "Epoch 14/100\n",
      "10/10 [==============================] - 0s 3ms/step - loss: 6303.0566 - mape: 40.4079\n",
      "Epoch 15/100\n",
      "10/10 [==============================] - 0s 3ms/step - loss: 5513.8726 - mape: 40.5651\n",
      "Epoch 16/100\n",
      "10/10 [==============================] - 0s 3ms/step - loss: 5094.7778 - mape: 41.1464\n",
      "Epoch 17/100\n",
      "10/10 [==============================] - 0s 3ms/step - loss: 4763.6411 - mape: 41.5870\n",
      "Epoch 18/100\n",
      "10/10 [==============================] - 0s 3ms/step - loss: 4540.6812 - mape: 41.7451\n",
      "Epoch 19/100\n",
      "10/10 [==============================] - 0s 3ms/step - loss: 4346.0469 - mape: 41.4221\n",
      "Epoch 20/100\n",
      "10/10 [==============================] - 0s 3ms/step - loss: 4163.5288 - mape: 40.8405\n",
      "Epoch 21/100\n",
      "10/10 [==============================] - 0s 3ms/step - loss: 4007.1877 - mape: 40.3453\n",
      "Epoch 22/100\n",
      "10/10 [==============================] - 0s 3ms/step - loss: 3891.9968 - mape: 40.0573\n",
      "Epoch 23/100\n",
      "10/10 [==============================] - 0s 3ms/step - loss: 3782.4102 - mape: 39.7554\n",
      "Epoch 24/100\n",
      "10/10 [==============================] - 0s 3ms/step - loss: 3685.1379 - mape: 39.5926\n",
      "Epoch 25/100\n",
      "10/10 [==============================] - 0s 3ms/step - loss: 3602.4236 - mape: 39.1928\n",
      "Epoch 26/100\n",
      "10/10 [==============================] - 0s 3ms/step - loss: 3534.4673 - mape: 38.8172\n",
      "Epoch 27/100\n",
      "10/10 [==============================] - 0s 3ms/step - loss: 3464.3577 - mape: 38.3759\n",
      "Epoch 28/100\n",
      "10/10 [==============================] - 0s 3ms/step - loss: 3402.4841 - mape: 38.1458\n",
      "Epoch 29/100\n",
      "10/10 [==============================] - 0s 3ms/step - loss: 3348.2878 - mape: 37.9951\n",
      "Epoch 30/100\n",
      "10/10 [==============================] - 0s 3ms/step - loss: 3296.3809 - mape: 37.7003\n",
      "Epoch 31/100\n",
      "10/10 [==============================] - 0s 3ms/step - loss: 3252.4592 - mape: 37.4291\n",
      "Epoch 32/100\n",
      "10/10 [==============================] - 0s 3ms/step - loss: 3209.9487 - mape: 37.4006\n",
      "Epoch 33/100\n",
      "10/10 [==============================] - 0s 3ms/step - loss: 3171.5913 - mape: 37.5277\n",
      "Epoch 34/100\n",
      "10/10 [==============================] - 0s 3ms/step - loss: 3133.1177 - mape: 37.5840\n",
      "Epoch 35/100\n",
      "10/10 [==============================] - 0s 3ms/step - loss: 3103.1646 - mape: 37.4322\n",
      "Epoch 36/100\n",
      "10/10 [==============================] - 0s 3ms/step - loss: 3079.6067 - mape: 37.4157\n",
      "Epoch 37/100\n",
      "10/10 [==============================] - 0s 3ms/step - loss: 3044.0039 - mape: 37.1156\n",
      "Epoch 38/100\n",
      "10/10 [==============================] - 0s 3ms/step - loss: 3015.1545 - mape: 36.7805\n",
      "Epoch 39/100\n",
      "10/10 [==============================] - 0s 3ms/step - loss: 2997.6555 - mape: 36.9095\n",
      "Epoch 40/100\n",
      "10/10 [==============================] - 0s 3ms/step - loss: 2972.5967 - mape: 36.9647\n",
      "Epoch 41/100\n",
      "10/10 [==============================] - 0s 3ms/step - loss: 2954.0229 - mape: 36.7464\n",
      "Epoch 42/100\n",
      "10/10 [==============================] - 0s 3ms/step - loss: 2933.5796 - mape: 36.6600\n",
      "Epoch 43/100\n",
      "10/10 [==============================] - 0s 3ms/step - loss: 2918.0701 - mape: 36.5443\n",
      "Epoch 44/100\n",
      "10/10 [==============================] - 0s 3ms/step - loss: 2905.0696 - mape: 36.5433\n",
      "Epoch 45/100\n",
      "10/10 [==============================] - 0s 3ms/step - loss: 2885.5623 - mape: 36.5328\n",
      "Epoch 46/100\n",
      "10/10 [==============================] - 0s 3ms/step - loss: 2871.2595 - mape: 36.5731\n",
      "Epoch 47/100\n",
      "10/10 [==============================] - 0s 3ms/step - loss: 2854.1294 - mape: 36.5867\n",
      "Epoch 48/100\n",
      "10/10 [==============================] - 0s 3ms/step - loss: 2848.7009 - mape: 36.4012\n",
      "Epoch 49/100\n",
      "10/10 [==============================] - 0s 3ms/step - loss: 2833.9512 - mape: 36.3392\n",
      "Epoch 50/100\n",
      "10/10 [==============================] - 0s 3ms/step - loss: 2822.3921 - mape: 36.3107\n",
      "Epoch 51/100\n",
      "10/10 [==============================] - 0s 3ms/step - loss: 2812.0933 - mape: 36.3133\n",
      "Epoch 52/100\n",
      "10/10 [==============================] - 0s 3ms/step - loss: 2799.4734 - mape: 36.3436\n",
      "Epoch 53/100\n",
      "10/10 [==============================] - 0s 3ms/step - loss: 2789.3774 - mape: 36.3522\n",
      "Epoch 54/100\n",
      "10/10 [==============================] - 0s 3ms/step - loss: 2780.5066 - mape: 36.2471\n",
      "Epoch 55/100\n",
      "10/10 [==============================] - 0s 3ms/step - loss: 2774.6416 - mape: 36.1601\n",
      "Epoch 56/100\n",
      "10/10 [==============================] - 0s 3ms/step - loss: 2767.4456 - mape: 36.2977\n",
      "Epoch 57/100\n",
      "10/10 [==============================] - 0s 4ms/step - loss: 2755.5234 - mape: 36.2559\n",
      "Epoch 58/100\n",
      "10/10 [==============================] - 0s 3ms/step - loss: 2748.9363 - mape: 36.0916\n",
      "Epoch 59/100\n",
      "10/10 [==============================] - 0s 3ms/step - loss: 2740.2129 - mape: 35.9378\n",
      "Epoch 60/100\n",
      "10/10 [==============================] - 0s 4ms/step - loss: 2732.6799 - mape: 35.9705\n",
      "Epoch 61/100\n",
      "10/10 [==============================] - 0s 3ms/step - loss: 2730.6733 - mape: 36.1538\n",
      "Epoch 62/100\n",
      "10/10 [==============================] - 0s 3ms/step - loss: 2722.2600 - mape: 36.2970\n",
      "Epoch 63/100\n",
      "10/10 [==============================] - 0s 3ms/step - loss: 2714.9761 - mape: 36.1883\n",
      "Epoch 64/100\n",
      "10/10 [==============================] - 0s 3ms/step - loss: 2713.6245 - mape: 35.9226\n",
      "Epoch 65/100\n",
      "10/10 [==============================] - 0s 3ms/step - loss: 2706.1462 - mape: 35.9927\n",
      "Epoch 66/100\n",
      "10/10 [==============================] - 0s 3ms/step - loss: 2697.8738 - mape: 36.1051\n",
      "Epoch 67/100\n",
      "10/10 [==============================] - 0s 3ms/step - loss: 2698.0579 - mape: 36.2138\n",
      "Epoch 68/100\n",
      "10/10 [==============================] - 0s 3ms/step - loss: 2683.3047 - mape: 36.0868\n",
      "Epoch 69/100\n",
      "10/10 [==============================] - 0s 3ms/step - loss: 2679.6458 - mape: 35.9644\n",
      "Epoch 70/100\n",
      "10/10 [==============================] - 0s 3ms/step - loss: 2676.8557 - mape: 35.8504\n",
      "Epoch 71/100\n",
      "10/10 [==============================] - 0s 3ms/step - loss: 2672.2988 - mape: 35.9112\n",
      "Epoch 72/100\n",
      "10/10 [==============================] - 0s 3ms/step - loss: 2662.2942 - mape: 35.7354\n",
      "Epoch 73/100\n",
      "10/10 [==============================] - 0s 3ms/step - loss: 2667.7244 - mape: 35.6953\n",
      "Epoch 74/100\n",
      "10/10 [==============================] - 0s 3ms/step - loss: 2657.0063 - mape: 35.7982\n",
      "Epoch 75/100\n",
      "10/10 [==============================] - 0s 3ms/step - loss: 2659.9775 - mape: 35.6618\n",
      "Epoch 76/100\n",
      "10/10 [==============================] - 0s 3ms/step - loss: 2652.7607 - mape: 35.7093\n",
      "Epoch 77/100\n",
      "10/10 [==============================] - 0s 3ms/step - loss: 2645.4094 - mape: 35.7742\n",
      "Epoch 78/100\n",
      "10/10 [==============================] - 0s 3ms/step - loss: 2635.6497 - mape: 35.5988\n",
      "Epoch 79/100\n",
      "10/10 [==============================] - 0s 3ms/step - loss: 2635.3667 - mape: 35.6185\n",
      "Epoch 80/100\n",
      "10/10 [==============================] - 0s 3ms/step - loss: 2637.5935 - mape: 35.6604\n",
      "Epoch 81/100\n",
      "10/10 [==============================] - 0s 3ms/step - loss: 2624.2673 - mape: 35.5455\n",
      "Epoch 82/100\n",
      "10/10 [==============================] - 0s 4ms/step - loss: 2622.3237 - mape: 35.5137\n",
      "Epoch 83/100\n",
      "10/10 [==============================] - 0s 3ms/step - loss: 2615.5198 - mape: 35.5358\n",
      "Epoch 84/100\n",
      "10/10 [==============================] - 0s 3ms/step - loss: 2612.6421 - mape: 35.6878\n",
      "Epoch 85/100\n",
      "10/10 [==============================] - 0s 3ms/step - loss: 2614.3591 - mape: 35.4237\n",
      "Epoch 86/100\n",
      "10/10 [==============================] - 0s 3ms/step - loss: 2606.1233 - mape: 35.4187\n",
      "Epoch 87/100\n",
      "10/10 [==============================] - 0s 3ms/step - loss: 2601.2896 - mape: 35.4971\n",
      "Epoch 88/100\n",
      "10/10 [==============================] - 0s 3ms/step - loss: 2598.8384 - mape: 35.3398\n",
      "Epoch 89/100\n",
      "10/10 [==============================] - 0s 3ms/step - loss: 2594.2307 - mape: 35.2696\n",
      "Epoch 90/100\n",
      "10/10 [==============================] - 0s 3ms/step - loss: 2588.2644 - mape: 35.1888\n",
      "Epoch 91/100\n",
      "10/10 [==============================] - 0s 3ms/step - loss: 2586.4468 - mape: 35.0701\n",
      "Epoch 92/100\n",
      "10/10 [==============================] - 0s 3ms/step - loss: 2590.7263 - mape: 34.9493\n",
      "Epoch 93/100\n",
      "10/10 [==============================] - 0s 3ms/step - loss: 2584.9075 - mape: 35.1245\n",
      "Epoch 94/100\n",
      "10/10 [==============================] - 0s 3ms/step - loss: 2574.2786 - mape: 35.2138\n",
      "Epoch 95/100\n",
      "10/10 [==============================] - 0s 3ms/step - loss: 2571.9663 - mape: 35.2575\n",
      "Epoch 96/100\n",
      "10/10 [==============================] - 0s 3ms/step - loss: 2571.3311 - mape: 35.3916\n",
      "Epoch 97/100\n",
      "10/10 [==============================] - 0s 3ms/step - loss: 2568.1201 - mape: 35.1976\n",
      "Epoch 98/100\n",
      "10/10 [==============================] - 0s 3ms/step - loss: 2563.3823 - mape: 35.0577\n",
      "Epoch 99/100\n",
      "10/10 [==============================] - 0s 3ms/step - loss: 2560.9001 - mape: 35.3016\n",
      "Epoch 100/100\n",
      "10/10 [==============================] - 0s 3ms/step - loss: 2558.6431 - mape: 35.1655\n"
     ]
    },
    {
     "data": {
      "text/plain": [
       "<keras.callbacks.History at 0x7f24802462d0>"
      ]
     },
     "execution_count": 5,
     "metadata": {},
     "output_type": "execute_result"
    }
   ],
   "source": [
    "mdl = keras.Sequential() # model kurma işlemi.\n",
    "\n",
    "\n",
    "\n",
    "mdl.add(layers.Dense(128, activation=\"relu\", input_shape = (X_train.shape[1], ) ))   \n",
    "mdl.add(layers.Dense(64, activation = \"relu\"))\n",
    "mdl.add(layers.Dense(1, activation = \"linear\"))\n",
    "\n",
    "\n",
    "mdl.compile(optimizer=\"adam\", loss = \"mse\", metrics = [\"mape\"])\n",
    "mdl.fit(X_train, y_train, epochs=100) "
   ]
  },
  {
   "cell_type": "code",
   "execution_count": null,
   "metadata": {
    "id": "1ium7dV8WRZh"
   },
   "outputs": [],
   "source": [
    "# "
   ]
  },
  {
   "cell_type": "code",
   "execution_count": null,
   "metadata": {
    "colab": {
     "base_uri": "https://localhost:8080/",
     "height": 282
    },
    "id": "gZ5ppNxvOFXb",
    "outputId": "e40e1eaa-fb70-4337-e6f1-7ea86563159d"
   },
   "outputs": [
    {
     "data": {
      "text/plain": [
       "[<matplotlib.lines.Line2D at 0x7f2480137c10>]"
      ]
     },
     "execution_count": 7,
     "metadata": {},
     "output_type": "execute_result"
    },
    {
     "data": {
      "image/png": "[encoded data removed]",
      "text/plain": [
       "<Figure size 432x288 with 1 Axes>"
      ]
     },
     "metadata": {
      "needs_background": "light"
     },
     "output_type": "display_data"
    }
   ],
   "source": [
    "ypred = mdl.predict(X_test)\n",
    "plt.plot(y_test, ypred, \"*\")  "
   ]
  },
  {
   "cell_type": "code",
   "execution_count": null,
   "metadata": {
    "colab": {
     "base_uri": "https://localhost:8080/"
    },
    "id": "-E6AUphXOaL1",
    "outputId": "690ffcd6-bfc1-4d78-d4fc-5adff2fe4dd9"
   },
   "outputs": [
    {
     "name": "stdout",
     "output_type": "stream",
     "text": [
      "5/5 [==============================] - 0s 4ms/step - loss: 2970.1060 - mape: 37.3582\n"
     ]
    },
    {
     "data": {
      "text/plain": [
       "[2970.10595703125, 37.35821533203125]"
      ]
     },
     "execution_count": 8,
     "metadata": {},
     "output_type": "execute_result"
    }
   ],
   "source": [
    "mdl.evaluate(X_test,y_test) "
   ]
  },
  {
   "cell_type": "markdown",
   "metadata": {
    "id": "mktXBYKnO4X7"
   },
   "source": [
    "## Deep Learning for Binary Classification"
   ]
  },
  {
   "cell_type": "code",
   "execution_count": null,
   "metadata": {
    "colab": {
     "base_uri": "https://localhost:8080/"
    },
    "id": "LWhL5mpbO8LZ",
    "outputId": "b9c6a1bd-2bad-443d-eeba-059b59901b17"
   },
   "outputs": [
    {
     "data": {
      "text/plain": [
       "(398, 30)"
      ]
     },
     "execution_count": 9,
     "metadata": {},
     "output_type": "execute_result"
    }
   ],
   "source": [
    "from sklearn.datasets import load_breast_cancer\n",
    "data = load_breast_cancer()\n",
    "\n",
    "X = data[\"data\"]\n",
    "y = data[\"target\"]\n",
    "\n",
    "X_train, X_test, y_train, y_test = train_test_split(X, y, test_size=0.3, random_state=42)\n",
    "\n",
    "mu = X_train.mean(axis = 0)\n",
    "sigma = X_train.std(axis = 0)\n",
    "\n",
    "X_train = (X_train - mu) / sigma\n",
    "X_test = (X_test - mu) / sigma\n",
    "X_train.shape"
   ]
  },
  {
   "cell_type": "code",
   "execution_count": null,
   "metadata": {
    "colab": {
     "base_uri": "https://localhost:8080/"
    },
    "id": "nze7MQIdPQn3",
    "outputId": "ea1c6214-95f1-4c4c-aec4-136d2b89136d"
   },
   "outputs": [
    {
     "name": "stdout",
     "output_type": "stream",
     "text": [
      "Epoch 1/100\n",
      "13/13 [==============================] - 1s 3ms/step - loss: 0.4516 - accuracy: 0.8442\n",
      "Epoch 2/100\n",
      "13/13 [==============================] - 0s 3ms/step - loss: 0.1853 - accuracy: 0.9497\n",
      "Epoch 3/100\n",
      "13/13 [==============================] - 0s 3ms/step - loss: 0.1234 - accuracy: 0.9648\n",
      "Epoch 4/100\n",
      "13/13 [==============================] - 0s 3ms/step - loss: 0.0960 - accuracy: 0.9749\n",
      "Epoch 5/100\n",
      "13/13 [==============================] - 0s 3ms/step - loss: 0.0801 - accuracy: 0.9799\n",
      "Epoch 6/100\n",
      "13/13 [==============================] - 0s 3ms/step - loss: 0.0704 - accuracy: 0.9799\n",
      "Epoch 7/100\n",
      "13/13 [==============================] - 0s 3ms/step - loss: 0.0628 - accuracy: 0.9799\n",
      "Epoch 8/100\n",
      "13/13 [==============================] - 0s 3ms/step - loss: 0.0560 - accuracy: 0.9824\n",
      "Epoch 9/100\n",
      "13/13 [==============================] - 0s 3ms/step - loss: 0.0508 - accuracy: 0.9824\n",
      "Epoch 10/100\n",
      "13/13 [==============================] - 0s 3ms/step - loss: 0.0464 - accuracy: 0.9849\n",
      "Epoch 11/100\n",
      "13/13 [==============================] - 0s 3ms/step - loss: 0.0415 - accuracy: 0.9874\n",
      "Epoch 12/100\n",
      "13/13 [==============================] - 0s 3ms/step - loss: 0.0379 - accuracy: 0.9874\n",
      "Epoch 13/100\n",
      "13/13 [==============================] - 0s 3ms/step - loss: 0.0341 - accuracy: 0.9925\n",
      "Epoch 14/100\n",
      "13/13 [==============================] - 0s 3ms/step - loss: 0.0308 - accuracy: 0.9925\n",
      "Epoch 15/100\n",
      "13/13 [==============================] - 0s 3ms/step - loss: 0.0279 - accuracy: 0.9925\n",
      "Epoch 16/100\n",
      "13/13 [==============================] - 0s 3ms/step - loss: 0.0255 - accuracy: 0.9925\n",
      "Epoch 17/100\n",
      "13/13 [==============================] - 0s 3ms/step - loss: 0.0232 - accuracy: 0.9925\n",
      "Epoch 18/100\n",
      "13/13 [==============================] - 0s 3ms/step - loss: 0.0211 - accuracy: 0.9925\n",
      "Epoch 19/100\n",
      "13/13 [==============================] - 0s 3ms/step - loss: 0.0196 - accuracy: 0.9925\n",
      "Epoch 20/100\n",
      "13/13 [==============================] - 0s 3ms/step - loss: 0.0175 - accuracy: 0.9950\n",
      "Epoch 21/100\n",
      "13/13 [==============================] - 0s 3ms/step - loss: 0.0167 - accuracy: 0.9925\n",
      "Epoch 22/100\n",
      "13/13 [==============================] - 0s 3ms/step - loss: 0.0145 - accuracy: 0.9925\n",
      "Epoch 23/100\n",
      "13/13 [==============================] - 0s 3ms/step - loss: 0.0136 - accuracy: 0.9975\n",
      "Epoch 24/100\n",
      "13/13 [==============================] - 0s 3ms/step - loss: 0.0124 - accuracy: 0.9975\n",
      "Epoch 25/100\n",
      "13/13 [==============================] - 0s 3ms/step - loss: 0.0110 - accuracy: 1.0000\n",
      "Epoch 26/100\n",
      "13/13 [==============================] - 0s 3ms/step - loss: 0.0099 - accuracy: 1.0000\n",
      "Epoch 27/100\n",
      "13/13 [==============================] - 0s 5ms/step - loss: 0.0089 - accuracy: 1.0000\n",
      "Epoch 28/100\n",
      "13/13 [==============================] - 0s 3ms/step - loss: 0.0084 - accuracy: 1.0000\n",
      "Epoch 29/100\n",
      "13/13 [==============================] - 0s 3ms/step - loss: 0.0077 - accuracy: 1.0000\n",
      "Epoch 30/100\n",
      "13/13 [==============================] - 0s 3ms/step - loss: 0.0070 - accuracy: 1.0000\n",
      "Epoch 31/100\n",
      "13/13 [==============================] - 0s 3ms/step - loss: 0.0068 - accuracy: 1.0000\n",
      "Epoch 32/100\n",
      "13/13 [==============================] - 0s 3ms/step - loss: 0.0059 - accuracy: 1.0000\n",
      "Epoch 33/100\n",
      "13/13 [==============================] - 0s 3ms/step - loss: 0.0059 - accuracy: 1.0000\n",
      "Epoch 34/100\n",
      "13/13 [==============================] - 0s 3ms/step - loss: 0.0056 - accuracy: 1.0000\n",
      "Epoch 35/100\n",
      "13/13 [==============================] - 0s 3ms/step - loss: 0.0049 - accuracy: 1.0000\n",
      "Epoch 36/100\n",
      "13/13 [==============================] - 0s 3ms/step - loss: 0.0048 - accuracy: 1.0000\n",
      "Epoch 37/100\n",
      "13/13 [==============================] - 0s 3ms/step - loss: 0.0042 - accuracy: 1.0000\n",
      "Epoch 38/100\n",
      "13/13 [==============================] - 0s 3ms/step - loss: 0.0041 - accuracy: 1.0000\n",
      "Epoch 39/100\n",
      "13/13 [==============================] - 0s 3ms/step - loss: 0.0039 - accuracy: 1.0000\n",
      "Epoch 40/100\n",
      "13/13 [==============================] - 0s 3ms/step - loss: 0.0034 - accuracy: 1.0000\n",
      "Epoch 41/100\n",
      "13/13 [==============================] - 0s 3ms/step - loss: 0.0032 - accuracy: 1.0000\n",
      "Epoch 42/100\n",
      "13/13 [==============================] - 0s 3ms/step - loss: 0.0029 - accuracy: 1.0000\n",
      "Epoch 43/100\n",
      "13/13 [==============================] - 0s 3ms/step - loss: 0.0029 - accuracy: 1.0000\n",
      "Epoch 44/100\n",
      "13/13 [==============================] - 0s 3ms/step - loss: 0.0026 - accuracy: 1.0000\n",
      "Epoch 45/100\n",
      "13/13 [==============================] - 0s 3ms/step - loss: 0.0025 - accuracy: 1.0000\n",
      "Epoch 46/100\n",
      "13/13 [==============================] - 0s 3ms/step - loss: 0.0023 - accuracy: 1.0000\n",
      "Epoch 47/100\n",
      "13/13 [==============================] - 0s 3ms/step - loss: 0.0022 - accuracy: 1.0000\n",
      "Epoch 48/100\n",
      "13/13 [==============================] - 0s 3ms/step - loss: 0.0022 - accuracy: 1.0000\n",
      "Epoch 49/100\n",
      "13/13 [==============================] - 0s 3ms/step - loss: 0.0020 - accuracy: 1.0000\n",
      "Epoch 50/100\n",
      "13/13 [==============================] - 0s 3ms/step - loss: 0.0019 - accuracy: 1.0000\n",
      "Epoch 51/100\n",
      "13/13 [==============================] - 0s 3ms/step - loss: 0.0018 - accuracy: 1.0000\n",
      "Epoch 52/100\n",
      "13/13 [==============================] - 0s 3ms/step - loss: 0.0017 - accuracy: 1.0000\n",
      "Epoch 53/100\n",
      "13/13 [==============================] - 0s 3ms/step - loss: 0.0016 - accuracy: 1.0000\n",
      "Epoch 54/100\n",
      "13/13 [==============================] - 0s 3ms/step - loss: 0.0016 - accuracy: 1.0000\n",
      "Epoch 55/100\n",
      "13/13 [==============================] - 0s 3ms/step - loss: 0.0014 - accuracy: 1.0000\n",
      "Epoch 56/100\n",
      "13/13 [==============================] - 0s 3ms/step - loss: 0.0014 - accuracy: 1.0000\n",
      "Epoch 57/100\n",
      "13/13 [==============================] - 0s 4ms/step - loss: 0.0013 - accuracy: 1.0000\n",
      "Epoch 58/100\n",
      "13/13 [==============================] - 0s 3ms/step - loss: 0.0013 - accuracy: 1.0000\n",
      "Epoch 59/100\n",
      "13/13 [==============================] - 0s 3ms/step - loss: 0.0012 - accuracy: 1.0000\n",
      "Epoch 60/100\n",
      "13/13 [==============================] - 0s 3ms/step - loss: 0.0012 - accuracy: 1.0000\n",
      "Epoch 61/100\n",
      "13/13 [==============================] - 0s 3ms/step - loss: 0.0011 - accuracy: 1.0000\n",
      "Epoch 62/100\n",
      "13/13 [==============================] - 0s 3ms/step - loss: 0.0010 - accuracy: 1.0000\n",
      "Epoch 63/100\n",
      "13/13 [==============================] - 0s 3ms/step - loss: 0.0011 - accuracy: 1.0000\n",
      "Epoch 64/100\n",
      "13/13 [==============================] - 0s 3ms/step - loss: 0.0010 - accuracy: 1.0000\n",
      "Epoch 65/100\n",
      "13/13 [==============================] - 0s 3ms/step - loss: 9.3389e-04 - accuracy: 1.0000\n",
      "Epoch 66/100\n",
      "13/13 [==============================] - 0s 3ms/step - loss: 9.0751e-04 - accuracy: 1.0000\n",
      "Epoch 67/100\n",
      "13/13 [==============================] - 0s 4ms/step - loss: 8.6273e-04 - accuracy: 1.0000\n",
      "Epoch 68/100\n",
      "13/13 [==============================] - 0s 3ms/step - loss: 8.3968e-04 - accuracy: 1.0000\n",
      "Epoch 69/100\n",
      "13/13 [==============================] - 0s 3ms/step - loss: 7.9552e-04 - accuracy: 1.0000\n",
      "Epoch 70/100\n",
      "13/13 [==============================] - 0s 3ms/step - loss: 7.6890e-04 - accuracy: 1.0000\n",
      "Epoch 71/100\n",
      "13/13 [==============================] - 0s 3ms/step - loss: 7.3677e-04 - accuracy: 1.0000\n",
      "Epoch 72/100\n",
      "13/13 [==============================] - 0s 3ms/step - loss: 7.2414e-04 - accuracy: 1.0000\n",
      "Epoch 73/100\n",
      "13/13 [==============================] - 0s 3ms/step - loss: 7.2684e-04 - accuracy: 1.0000\n",
      "Epoch 74/100\n",
      "13/13 [==============================] - 0s 3ms/step - loss: 6.8374e-04 - accuracy: 1.0000\n",
      "Epoch 75/100\n",
      "13/13 [==============================] - 0s 3ms/step - loss: 6.4586e-04 - accuracy: 1.0000\n",
      "Epoch 76/100\n",
      "13/13 [==============================] - 0s 3ms/step - loss: 6.1753e-04 - accuracy: 1.0000\n",
      "Epoch 77/100\n",
      "13/13 [==============================] - 0s 3ms/step - loss: 6.1350e-04 - accuracy: 1.0000\n",
      "Epoch 78/100\n",
      "13/13 [==============================] - 0s 3ms/step - loss: 5.8352e-04 - accuracy: 1.0000\n",
      "Epoch 79/100\n",
      "13/13 [==============================] - 0s 3ms/step - loss: 5.9119e-04 - accuracy: 1.0000\n",
      "Epoch 80/100\n",
      "13/13 [==============================] - 0s 4ms/step - loss: 5.5106e-04 - accuracy: 1.0000\n",
      "Epoch 81/100\n",
      "13/13 [==============================] - 0s 3ms/step - loss: 5.5989e-04 - accuracy: 1.0000\n",
      "Epoch 82/100\n",
      "13/13 [==============================] - 0s 3ms/step - loss: 5.1408e-04 - accuracy: 1.0000\n",
      "Epoch 83/100\n",
      "13/13 [==============================] - 0s 3ms/step - loss: 5.0927e-04 - accuracy: 1.0000\n",
      "Epoch 84/100\n",
      "13/13 [==============================] - 0s 3ms/step - loss: 4.7900e-04 - accuracy: 1.0000\n",
      "Epoch 85/100\n",
      "13/13 [==============================] - 0s 3ms/step - loss: 4.7733e-04 - accuracy: 1.0000\n",
      "Epoch 86/100\n",
      "13/13 [==============================] - 0s 3ms/step - loss: 4.8951e-04 - accuracy: 1.0000\n",
      "Epoch 87/100\n",
      "13/13 [==============================] - 0s 3ms/step - loss: 4.8143e-04 - accuracy: 1.0000\n",
      "Epoch 88/100\n",
      "13/13 [==============================] - 0s 3ms/step - loss: 4.2076e-04 - accuracy: 1.0000\n",
      "Epoch 89/100\n",
      "13/13 [==============================] - 0s 3ms/step - loss: 4.1984e-04 - accuracy: 1.0000\n",
      "Epoch 90/100\n",
      "13/13 [==============================] - 0s 3ms/step - loss: 4.1117e-04 - accuracy: 1.0000\n",
      "Epoch 91/100\n",
      "13/13 [==============================] - 0s 3ms/step - loss: 3.8988e-04 - accuracy: 1.0000\n",
      "Epoch 92/100\n",
      "13/13 [==============================] - 0s 3ms/step - loss: 3.8241e-04 - accuracy: 1.0000\n",
      "Epoch 93/100\n",
      "13/13 [==============================] - 0s 3ms/step - loss: 3.7031e-04 - accuracy: 1.0000\n",
      "Epoch 94/100\n",
      "13/13 [==============================] - 0s 3ms/step - loss: 3.6167e-04 - accuracy: 1.0000\n",
      "Epoch 95/100\n",
      "13/13 [==============================] - 0s 3ms/step - loss: 3.4845e-04 - accuracy: 1.0000\n",
      "Epoch 96/100\n",
      "13/13 [==============================] - 0s 3ms/step - loss: 3.4066e-04 - accuracy: 1.0000\n",
      "Epoch 97/100\n",
      "13/13 [==============================] - 0s 3ms/step - loss: 3.3147e-04 - accuracy: 1.0000\n",
      "Epoch 98/100\n",
      "13/13 [==============================] - 0s 4ms/step - loss: 3.2100e-04 - accuracy: 1.0000\n",
      "Epoch 99/100\n",
      "13/13 [==============================] - 0s 3ms/step - loss: 3.1563e-04 - accuracy: 1.0000\n",
      "Epoch 100/100\n",
      "13/13 [==============================] - 0s 3ms/step - loss: 3.0863e-04 - accuracy: 1.0000\n"
     ]
    },
    {
     "data": {
      "text/plain": [
       "<keras.callbacks.History at 0x7f2480156150>"
      ]
     },
     "execution_count": 10,
     "metadata": {},
     "output_type": "execute_result"
    }
   ],
   "source": [
    "mdl = keras.Sequential()\n",
    "\n",
    "mdl.add(layers.Dense(128, activation=\"relu\", input_shape = (X_train.shape[1], ) ))\n",
    "mdl.add(layers.Dense(64, activation = \"relu\"))\n",
    "mdl.add(layers.Dense(1, activation = \"sigmoid\")) \n",
    "\n",
    "mdl.compile(optimizer=\"adam\", loss = \"binary_crossentropy\", metrics = [\"accuracy\"])\n",
    "mdl.fit(X_train, y_train, epochs=100)\n"
   ]
  },
  {
   "cell_type": "code",
   "execution_count": null,
   "metadata": {
    "colab": {
     "base_uri": "https://localhost:8080/"
    },
    "id": "8LGS1CGKQ6a4",
    "outputId": "51bce7e8-ec31-4243-e5f7-1572280ab8fb"
   },
   "outputs": [
    {
     "data": {
      "text/plain": [
       "array([[1],\n",
       "       [0],\n",
       "       [0],\n",
       "       [1],\n",
       "       [1],\n",
       "       [0],\n",
       "       [0],\n",
       "       [0],\n",
       "       [1],\n",
       "       [1],\n",
       "       [1],\n",
       "       [0],\n",
       "       [1],\n",
       "       [0],\n",
       "       [1],\n",
       "       [0],\n",
       "       [1],\n",
       "       [1],\n",
       "       [1],\n",
       "       [0],\n",
       "       [1],\n",
       "       [1],\n",
       "       [0],\n",
       "       [1],\n",
       "       [1],\n",
       "       [1],\n",
       "       [1],\n",
       "       [1],\n",
       "       [1],\n",
       "       [0],\n",
       "       [1],\n",
       "       [1],\n",
       "       [1],\n",
       "       [1],\n",
       "       [1],\n",
       "       [1],\n",
       "       [0],\n",
       "       [1],\n",
       "       [0],\n",
       "       [1],\n",
       "       [1],\n",
       "       [0],\n",
       "       [1],\n",
       "       [1],\n",
       "       [1],\n",
       "       [1],\n",
       "       [1],\n",
       "       [1],\n",
       "       [1],\n",
       "       [1],\n",
       "       [0],\n",
       "       [0],\n",
       "       [1],\n",
       "       [1],\n",
       "       [1],\n",
       "       [1],\n",
       "       [1],\n",
       "       [0],\n",
       "       [0],\n",
       "       [1],\n",
       "       [1],\n",
       "       [0],\n",
       "       [0],\n",
       "       [1],\n",
       "       [1],\n",
       "       [1],\n",
       "       [0],\n",
       "       [0],\n",
       "       [1],\n",
       "       [1],\n",
       "       [0],\n",
       "       [0],\n",
       "       [1],\n",
       "       [0],\n",
       "       [1],\n",
       "       [1],\n",
       "       [1],\n",
       "       [1],\n",
       "       [1],\n",
       "       [1],\n",
       "       [0],\n",
       "       [1],\n",
       "       [0],\n",
       "       [0],\n",
       "       [0],\n",
       "       [0],\n",
       "       [0],\n",
       "       [0],\n",
       "       [1],\n",
       "       [1],\n",
       "       [1],\n",
       "       [0],\n",
       "       [1],\n",
       "       [1],\n",
       "       [1],\n",
       "       [1],\n",
       "       [0],\n",
       "       [0],\n",
       "       [1],\n",
       "       [0],\n",
       "       [0],\n",
       "       [1],\n",
       "       [0],\n",
       "       [0],\n",
       "       [1],\n",
       "       [1],\n",
       "       [1],\n",
       "       [0],\n",
       "       [1],\n",
       "       [1],\n",
       "       [0],\n",
       "       [1],\n",
       "       [1],\n",
       "       [0],\n",
       "       [0],\n",
       "       [0],\n",
       "       [1],\n",
       "       [1],\n",
       "       [1],\n",
       "       [0],\n",
       "       [1],\n",
       "       [1],\n",
       "       [1],\n",
       "       [0],\n",
       "       [1],\n",
       "       [0],\n",
       "       [0],\n",
       "       [1],\n",
       "       [1],\n",
       "       [0],\n",
       "       [0],\n",
       "       [0],\n",
       "       [1],\n",
       "       [1],\n",
       "       [1],\n",
       "       [0],\n",
       "       [1],\n",
       "       [1],\n",
       "       [1],\n",
       "       [0],\n",
       "       [1],\n",
       "       [0],\n",
       "       [1],\n",
       "       [1],\n",
       "       [0],\n",
       "       [1],\n",
       "       [0],\n",
       "       [0],\n",
       "       [0],\n",
       "       [1],\n",
       "       [0],\n",
       "       [1],\n",
       "       [1],\n",
       "       [1],\n",
       "       [1],\n",
       "       [0],\n",
       "       [0],\n",
       "       [1],\n",
       "       [1],\n",
       "       [1],\n",
       "       [1],\n",
       "       [1],\n",
       "       [1],\n",
       "       [1],\n",
       "       [0],\n",
       "       [1],\n",
       "       [1],\n",
       "       [1],\n",
       "       [1],\n",
       "       [0],\n",
       "       [1]])"
      ]
     },
     "execution_count": 11,
     "metadata": {},
     "output_type": "execute_result"
    }
   ],
   "source": [
    "ypred = mdl.predict(X_test)\n",
    "ypred_label = (ypred > 0.5).astype(\"int\")\n",
    "ypred_label"
   ]
  },
  {
   "cell_type": "code",
   "execution_count": null,
   "metadata": {
    "colab": {
     "base_uri": "https://localhost:8080/"
    },
    "id": "-Bciks6pSDax",
    "outputId": "125dfa95-9e95-485b-f04c-8dd46816d64e"
   },
   "outputs": [
    {
     "name": "stdout",
     "output_type": "stream",
     "text": [
      "6/6 [==============================] - 0s 3ms/step - loss: 0.1213 - accuracy: 0.9766\n"
     ]
    },
    {
     "data": {
      "text/plain": [
       "[0.12127441167831421, 0.9766082167625427]"
      ]
     },
     "execution_count": 12,
     "metadata": {},
     "output_type": "execute_result"
    }
   ],
   "source": [
    "mdl.evaluate(X_test, y_test)"
   ]
  },
  {
   "cell_type": "markdown",
   "metadata": {
    "id": "4FJ2fg1dRiqg"
   },
   "source": [
    "## Deep Learning for Multinomial Classification (2en fazla sınıf var ise)\n",
    "\n"
   ]
  },
  {
   "cell_type": "code",
   "execution_count": null,
   "metadata": {
    "colab": {
     "base_uri": "https://localhost:8080/"
    },
    "id": "CipEHzoqRnlg",
    "outputId": "39a898ae-edb7-4d6a-c586-0c32a9ba1ef2"
   },
   "outputs": [
    {
     "data": {
      "text/plain": [
       "(105, 4)"
      ]
     },
     "execution_count": 38,
     "metadata": {},
     "output_type": "execute_result"
    }
   ],
   "source": [
    "from sklearn.datasets import load_iris\n",
    "\n",
    "data = load_iris()\n",
    "\n",
    "X = data[\"data\"]\n",
    "y = data[\"target\"]\n",
    "\n",
    "X_train, X_test, y_train, y_test = train_test_split(X, y, test_size=0.3, random_state=42)\n",
    "\n",
    "mu = X_train.mean(axis = 0)\n",
    "sigma = X_train.std(axis = 0)\n",
    "\n",
    "X_train = (X_train - mu) / sigma\n",
    "X_test = (X_test - mu) / sigma\n",
    "X_train.shape"
   ]
  },
  {
   "cell_type": "code",
   "execution_count": null,
   "metadata": {
    "colab": {
     "base_uri": "https://localhost:8080/"
    },
    "id": "-Z30W3-pR89r",
    "outputId": "df226883-e096-4bba-a803-d6fde247d44a"
   },
   "outputs": [
    {
     "name": "stdout",
     "output_type": "stream",
     "text": [
      "Epoch 1/100\n",
      "4/4 [==============================] - 0s 6ms/step - loss: 1.0167 - accuracy: 0.5714\n",
      "Epoch 2/100\n",
      "4/4 [==============================] - 0s 4ms/step - loss: 0.8714 - accuracy: 0.8286\n",
      "Epoch 3/100\n",
      "4/4 [==============================] - 0s 4ms/step - loss: 0.7664 - accuracy: 0.8190\n",
      "Epoch 4/100\n",
      "4/4 [==============================] - 0s 4ms/step - loss: 0.6789 - accuracy: 0.8286\n",
      "Epoch 5/100\n",
      "4/4 [==============================] - 0s 4ms/step - loss: 0.6106 - accuracy: 0.8190\n",
      "Epoch 6/100\n",
      "4/4 [==============================] - 0s 5ms/step - loss: 0.5533 - accuracy: 0.8286\n",
      "Epoch 7/100\n",
      "4/4 [==============================] - 0s 4ms/step - loss: 0.5074 - accuracy: 0.8286\n",
      "Epoch 8/100\n",
      "4/4 [==============================] - 0s 4ms/step - loss: 0.4678 - accuracy: 0.8286\n",
      "Epoch 9/100\n",
      "4/4 [==============================] - 0s 4ms/step - loss: 0.4349 - accuracy: 0.8381\n",
      "Epoch 10/100\n",
      "4/4 [==============================] - 0s 4ms/step - loss: 0.4080 - accuracy: 0.8381\n",
      "Epoch 11/100\n",
      "4/4 [==============================] - 0s 4ms/step - loss: 0.3826 - accuracy: 0.8381\n",
      "Epoch 12/100\n",
      "4/4 [==============================] - 0s 4ms/step - loss: 0.3613 - accuracy: 0.8381\n",
      "Epoch 13/100\n",
      "4/4 [==============================] - 0s 4ms/step - loss: 0.3431 - accuracy: 0.8381\n",
      "Epoch 14/100\n",
      "4/4 [==============================] - 0s 4ms/step - loss: 0.3265 - accuracy: 0.8476\n",
      "Epoch 15/100\n",
      "4/4 [==============================] - 0s 4ms/step - loss: 0.3125 - accuracy: 0.8571\n",
      "Epoch 16/100\n",
      "4/4 [==============================] - 0s 4ms/step - loss: 0.3003 - accuracy: 0.8667\n",
      "Epoch 17/100\n",
      "4/4 [==============================] - 0s 5ms/step - loss: 0.2849 - accuracy: 0.8667\n",
      "Epoch 18/100\n",
      "4/4 [==============================] - 0s 4ms/step - loss: 0.2731 - accuracy: 0.8857\n",
      "Epoch 19/100\n",
      "4/4 [==============================] - 0s 4ms/step - loss: 0.2627 - accuracy: 0.8952\n",
      "Epoch 20/100\n",
      "4/4 [==============================] - 0s 4ms/step - loss: 0.2527 - accuracy: 0.9143\n",
      "Epoch 21/100\n",
      "4/4 [==============================] - 0s 4ms/step - loss: 0.2434 - accuracy: 0.9238\n",
      "Epoch 22/100\n",
      "4/4 [==============================] - 0s 4ms/step - loss: 0.2335 - accuracy: 0.9143\n",
      "Epoch 23/100\n",
      "4/4 [==============================] - 0s 4ms/step - loss: 0.2236 - accuracy: 0.9143\n",
      "Epoch 24/100\n",
      "4/4 [==============================] - 0s 4ms/step - loss: 0.2147 - accuracy: 0.9143\n",
      "Epoch 25/100\n",
      "4/4 [==============================] - 0s 4ms/step - loss: 0.2061 - accuracy: 0.9238\n",
      "Epoch 26/100\n",
      "4/4 [==============================] - 0s 4ms/step - loss: 0.1993 - accuracy: 0.9429\n",
      "Epoch 27/100\n",
      "4/4 [==============================] - 0s 4ms/step - loss: 0.1919 - accuracy: 0.9429\n",
      "Epoch 28/100\n",
      "4/4 [==============================] - 0s 4ms/step - loss: 0.1850 - accuracy: 0.9429\n",
      "Epoch 29/100\n",
      "4/4 [==============================] - 0s 5ms/step - loss: 0.1772 - accuracy: 0.9429\n",
      "Epoch 30/100\n",
      "4/4 [==============================] - 0s 4ms/step - loss: 0.1693 - accuracy: 0.9524\n",
      "Epoch 31/100\n",
      "4/4 [==============================] - 0s 4ms/step - loss: 0.1625 - accuracy: 0.9524\n",
      "Epoch 32/100\n",
      "4/4 [==============================] - 0s 4ms/step - loss: 0.1560 - accuracy: 0.9524\n",
      "Epoch 33/100\n",
      "4/4 [==============================] - 0s 4ms/step - loss: 0.1514 - accuracy: 0.9524\n",
      "Epoch 34/100\n",
      "4/4 [==============================] - 0s 4ms/step - loss: 0.1464 - accuracy: 0.9524\n",
      "Epoch 35/100\n",
      "4/4 [==============================] - 0s 4ms/step - loss: 0.1416 - accuracy: 0.9524\n",
      "Epoch 36/100\n",
      "4/4 [==============================] - 0s 4ms/step - loss: 0.1350 - accuracy: 0.9524\n",
      "Epoch 37/100\n",
      "4/4 [==============================] - 0s 4ms/step - loss: 0.1294 - accuracy: 0.9524\n",
      "Epoch 38/100\n",
      "4/4 [==============================] - 0s 4ms/step - loss: 0.1261 - accuracy: 0.9524\n",
      "Epoch 39/100\n",
      "4/4 [==============================] - 0s 4ms/step - loss: 0.1225 - accuracy: 0.9524\n",
      "Epoch 40/100\n",
      "4/4 [==============================] - 0s 4ms/step - loss: 0.1177 - accuracy: 0.9524\n",
      "Epoch 41/100\n",
      "4/4 [==============================] - 0s 4ms/step - loss: 0.1162 - accuracy: 0.9524\n",
      "Epoch 42/100\n",
      "4/4 [==============================] - 0s 5ms/step - loss: 0.1137 - accuracy: 0.9429\n",
      "Epoch 43/100\n",
      "4/4 [==============================] - 0s 4ms/step - loss: 0.1087 - accuracy: 0.9524\n",
      "Epoch 44/100\n",
      "4/4 [==============================] - 0s 4ms/step - loss: 0.1053 - accuracy: 0.9619\n",
      "Epoch 45/100\n",
      "4/4 [==============================] - 0s 4ms/step - loss: 0.1016 - accuracy: 0.9619\n",
      "Epoch 46/100\n",
      "4/4 [==============================] - 0s 4ms/step - loss: 0.0978 - accuracy: 0.9619\n",
      "Epoch 47/100\n",
      "4/4 [==============================] - 0s 4ms/step - loss: 0.0950 - accuracy: 0.9714\n",
      "Epoch 48/100\n",
      "4/4 [==============================] - 0s 4ms/step - loss: 0.0930 - accuracy: 0.9714\n",
      "Epoch 49/100\n",
      "4/4 [==============================] - 0s 4ms/step - loss: 0.0900 - accuracy: 0.9714\n",
      "Epoch 50/100\n",
      "4/4 [==============================] - 0s 4ms/step - loss: 0.0877 - accuracy: 0.9714\n",
      "Epoch 51/100\n",
      "4/4 [==============================] - 0s 4ms/step - loss: 0.0882 - accuracy: 0.9714\n",
      "Epoch 52/100\n",
      "4/4 [==============================] - 0s 5ms/step - loss: 0.0851 - accuracy: 0.9714\n",
      "Epoch 53/100\n",
      "4/4 [==============================] - 0s 4ms/step - loss: 0.0848 - accuracy: 0.9619\n",
      "Epoch 54/100\n",
      "4/4 [==============================] - 0s 4ms/step - loss: 0.0839 - accuracy: 0.9619\n",
      "Epoch 55/100\n",
      "4/4 [==============================] - 0s 4ms/step - loss: 0.0803 - accuracy: 0.9714\n",
      "Epoch 56/100\n",
      "4/4 [==============================] - 0s 4ms/step - loss: 0.0762 - accuracy: 0.9810\n",
      "Epoch 57/100\n",
      "4/4 [==============================] - 0s 4ms/step - loss: 0.0757 - accuracy: 0.9810\n",
      "Epoch 58/100\n",
      "4/4 [==============================] - 0s 4ms/step - loss: 0.0738 - accuracy: 0.9810\n",
      "Epoch 59/100\n",
      "4/4 [==============================] - 0s 4ms/step - loss: 0.0725 - accuracy: 0.9810\n",
      "Epoch 60/100\n",
      "4/4 [==============================] - 0s 4ms/step - loss: 0.0710 - accuracy: 0.9810\n",
      "Epoch 61/100\n",
      "4/4 [==============================] - 0s 4ms/step - loss: 0.0705 - accuracy: 0.9714\n",
      "Epoch 62/100\n",
      "4/4 [==============================] - 0s 4ms/step - loss: 0.0701 - accuracy: 0.9714\n",
      "Epoch 63/100\n",
      "4/4 [==============================] - 0s 4ms/step - loss: 0.0688 - accuracy: 0.9810\n",
      "Epoch 64/100\n",
      "4/4 [==============================] - 0s 4ms/step - loss: 0.0672 - accuracy: 0.9810\n",
      "Epoch 65/100\n",
      "4/4 [==============================] - 0s 4ms/step - loss: 0.0649 - accuracy: 0.9810\n",
      "Epoch 66/100\n",
      "4/4 [==============================] - 0s 4ms/step - loss: 0.0641 - accuracy: 0.9810\n",
      "Epoch 67/100\n",
      "4/4 [==============================] - 0s 4ms/step - loss: 0.0640 - accuracy: 0.9810\n",
      "Epoch 68/100\n",
      "4/4 [==============================] - 0s 4ms/step - loss: 0.0630 - accuracy: 0.9810\n",
      "Epoch 69/100\n",
      "4/4 [==============================] - 0s 4ms/step - loss: 0.0609 - accuracy: 0.9810\n",
      "Epoch 70/100\n",
      "4/4 [==============================] - 0s 4ms/step - loss: 0.0615 - accuracy: 0.9810\n",
      "Epoch 71/100\n",
      "4/4 [==============================] - 0s 4ms/step - loss: 0.0610 - accuracy: 0.9810\n",
      "Epoch 72/100\n",
      "4/4 [==============================] - 0s 4ms/step - loss: 0.0600 - accuracy: 0.9810\n",
      "Epoch 73/100\n",
      "4/4 [==============================] - 0s 4ms/step - loss: 0.0583 - accuracy: 0.9810\n",
      "Epoch 74/100\n",
      "4/4 [==============================] - 0s 4ms/step - loss: 0.0626 - accuracy: 0.9810\n",
      "Epoch 75/100\n",
      "4/4 [==============================] - 0s 6ms/step - loss: 0.0606 - accuracy: 0.9810\n",
      "Epoch 76/100\n",
      "4/4 [==============================] - 0s 7ms/step - loss: 0.0582 - accuracy: 0.9714\n",
      "Epoch 77/100\n",
      "4/4 [==============================] - 0s 4ms/step - loss: 0.0579 - accuracy: 0.9810\n",
      "Epoch 78/100\n",
      "4/4 [==============================] - 0s 4ms/step - loss: 0.0576 - accuracy: 0.9714\n",
      "Epoch 79/100\n",
      "4/4 [==============================] - 0s 4ms/step - loss: 0.0560 - accuracy: 0.9714\n",
      "Epoch 80/100\n",
      "4/4 [==============================] - 0s 4ms/step - loss: 0.0556 - accuracy: 0.9810\n",
      "Epoch 81/100\n",
      "4/4 [==============================] - 0s 5ms/step - loss: 0.0552 - accuracy: 0.9810\n",
      "Epoch 82/100\n",
      "4/4 [==============================] - 0s 4ms/step - loss: 0.0571 - accuracy: 0.9810\n",
      "Epoch 83/100\n",
      "4/4 [==============================] - 0s 4ms/step - loss: 0.0544 - accuracy: 0.9810\n",
      "Epoch 84/100\n",
      "4/4 [==============================] - 0s 4ms/step - loss: 0.0544 - accuracy: 0.9905\n",
      "Epoch 85/100\n",
      "4/4 [==============================] - 0s 4ms/step - loss: 0.0532 - accuracy: 0.9905\n",
      "Epoch 86/100\n",
      "4/4 [==============================] - 0s 4ms/step - loss: 0.0530 - accuracy: 0.9810\n",
      "Epoch 87/100\n",
      "4/4 [==============================] - 0s 7ms/step - loss: 0.0520 - accuracy: 0.9810\n",
      "Epoch 88/100\n",
      "4/4 [==============================] - 0s 4ms/step - loss: 0.0516 - accuracy: 0.9810\n",
      "Epoch 89/100\n",
      "4/4 [==============================] - 0s 4ms/step - loss: 0.0513 - accuracy: 0.9810\n",
      "Epoch 90/100\n",
      "4/4 [==============================] - 0s 5ms/step - loss: 0.0501 - accuracy: 0.9905\n",
      "Epoch 91/100\n",
      "4/4 [==============================] - 0s 4ms/step - loss: 0.0523 - accuracy: 0.9810\n",
      "Epoch 92/100\n",
      "4/4 [==============================] - 0s 4ms/step - loss: 0.0513 - accuracy: 0.9810\n",
      "Epoch 93/100\n",
      "4/4 [==============================] - 0s 4ms/step - loss: 0.0498 - accuracy: 0.9810\n",
      "Epoch 94/100\n",
      "4/4 [==============================] - 0s 4ms/step - loss: 0.0498 - accuracy: 0.9810\n",
      "Epoch 95/100\n",
      "4/4 [==============================] - 0s 4ms/step - loss: 0.0539 - accuracy: 0.9810\n",
      "Epoch 96/100\n",
      "4/4 [==============================] - 0s 4ms/step - loss: 0.0520 - accuracy: 0.9810\n",
      "Epoch 97/100\n",
      "4/4 [==============================] - 0s 4ms/step - loss: 0.0500 - accuracy: 0.9810\n",
      "Epoch 98/100\n",
      "4/4 [==============================] - 0s 5ms/step - loss: 0.0479 - accuracy: 0.9810\n",
      "Epoch 99/100\n",
      "4/4 [==============================] - 0s 4ms/step - loss: 0.0505 - accuracy: 0.9810\n",
      "Epoch 100/100\n",
      "4/4 [==============================] - 0s 4ms/step - loss: 0.0496 - accuracy: 0.9810\n"
     ]
    },
    {
     "data": {
      "text/plain": [
       "<keras.callbacks.History at 0x7f24146e2650>"
      ]
     },
     "execution_count": 14,
     "metadata": {},
     "output_type": "execute_result"
    }
   ],
   "source": [
    "mdl = keras.Sequential()\n",
    "\n",
    "mdl.add(layers.Dense(128, activation=\"relu\", input_shape = (X_train.shape[1], ) ))\n",
    "mdl.add(layers.Dense(64, activation = \"relu\"))\n",
    "mdl.add(layers.Dense(3, activation = \"softmax\"))  \n",
    "mdl.compile(optimizer=\"adam\", loss = \"sparse_categorical_crossentropy\", metrics = [\"accuracy\"])\n",
    "# \n",
    "mdl.fit(X_train, y_train, epochs=100)\n"
   ]
  },
  {
   "cell_type": "code",
   "execution_count": null,
   "metadata": {
    "colab": {
     "base_uri": "https://localhost:8080/"
    },
    "id": "R_gwgI0Ge9uX",
    "outputId": "162f57f2-5a75-4357-aa14-6ce9beecbaa5"
   },
   "outputs": [
    {
     "data": {
      "text/plain": [
       "array([[3.75069707e-04, 9.95752811e-01, 3.87204601e-03],\n",
       "       [9.98959303e-01, 1.04073947e-03, 2.02710204e-09],\n",
       "       [1.90514583e-11, 1.47766650e-06, 9.99998569e-01],\n",
       "       [1.04279688e-03, 9.61316109e-01, 3.76410484e-02],\n",
       "       [8.62903180e-05, 9.85453308e-01, 1.44604221e-02],\n",
       "       [9.98518169e-01, 1.48183736e-03, 1.27168382e-08],\n",
       "       [1.02541083e-02, 9.88759637e-01, 9.86199477e-04],\n",
       "       [2.11395673e-06, 1.30854128e-03, 9.98689353e-01],\n",
       "       [5.31054729e-06, 8.98553014e-01, 1.01441666e-01],\n",
       "       [6.08302769e-04, 9.98756051e-01, 6.35704317e-04],\n",
       "       [1.43744051e-04, 3.42113413e-02, 9.65644956e-01],\n",
       "       [9.99511003e-01, 4.89010126e-04, 9.16074949e-09],\n",
       "       [9.99363959e-01, 6.36048731e-04, 1.61572855e-09],\n",
       "       [9.99494553e-01, 5.05479751e-04, 7.78294229e-09],\n",
       "       [9.99794185e-01, 2.05887423e-04, 5.55591739e-10],\n",
       "       [6.53046789e-03, 9.75097299e-01, 1.83721762e-02],\n",
       "       [4.25131503e-07, 2.56422092e-04, 9.99743164e-01],\n",
       "       [2.46924959e-04, 9.99305010e-01, 4.48089762e-04],\n",
       "       [1.05644308e-03, 9.84499693e-01, 1.44437775e-02],\n",
       "       [1.72896932e-07, 2.70781515e-04, 9.99728978e-01],\n",
       "       [9.99697089e-01, 3.02889355e-04, 8.18945711e-09],\n",
       "       [3.97360534e-04, 1.39185712e-01, 8.60416889e-01],\n",
       "       [9.99438822e-01, 5.61192574e-04, 1.03172288e-08],\n",
       "       [3.31724777e-07, 5.11335966e-04, 9.99488354e-01],\n",
       "       [3.75163181e-05, 8.73925816e-03, 9.91223216e-01],\n",
       "       [9.41622204e-07, 6.75831281e-04, 9.99323249e-01],\n",
       "       [8.74950175e-08, 2.56561418e-03, 9.97434318e-01],\n",
       "       [4.41686183e-07, 1.69869556e-04, 9.99829650e-01],\n",
       "       [9.99231696e-01, 7.68279773e-04, 2.55132520e-08],\n",
       "       [9.99447167e-01, 5.52852114e-04, 1.57066022e-08],\n",
       "       [9.99957085e-01, 4.29358151e-05, 1.51801544e-10],\n",
       "       [9.99692559e-01, 3.07462120e-04, 5.13996623e-11],\n",
       "       [7.55916350e-04, 9.97879624e-01, 1.36442680e-03],\n",
       "       [9.99780953e-01, 2.19071808e-04, 3.01162961e-09],\n",
       "       [9.99882221e-01, 1.17806820e-04, 2.65671551e-09],\n",
       "       [1.42213787e-06, 2.15812828e-02, 9.78417218e-01],\n",
       "       [2.85971980e-03, 9.92351472e-01, 4.78878198e-03],\n",
       "       [9.99621511e-01, 3.78514524e-04, 1.99366390e-09],\n",
       "       [9.99846458e-01, 1.53574118e-04, 6.87886081e-10],\n",
       "       [9.99921679e-01, 7.83426585e-05, 3.76482283e-11],\n",
       "       [7.90554986e-06, 1.05746258e-02, 9.89417493e-01],\n",
       "       [2.37314329e-02, 9.72088575e-01, 4.17999551e-03],\n",
       "       [7.83092168e-04, 9.86763299e-01, 1.24536734e-02],\n",
       "       [9.99717176e-01, 2.82780151e-04, 4.32085534e-10],\n",
       "       [9.99645710e-01, 3.54289921e-04, 8.33907055e-10]], dtype=float32)"
      ]
     },
     "execution_count": 15,
     "metadata": {},
     "output_type": "execute_result"
    }
   ],
   "source": [
    "ypred = mdl.predict(X_test)\n",
    "ypred"
   ]
  },
  {
   "cell_type": "code",
   "execution_count": null,
   "metadata": {
    "colab": {
     "base_uri": "https://localhost:8080/"
    },
    "id": "RsAEaleSSXA0",
    "outputId": "baad1279-d0e6-47df-88b0-49dc72d33a3b"
   },
   "outputs": [
    {
     "data": {
      "text/plain": [
       "array([1, 0, 2, 1, 1, 0, 1, 2, 1, 1, 2, 0, 0, 0, 0, 1, 2, 1, 1, 2, 0, 2,\n",
       "       0, 2, 2, 2, 2, 2, 0, 0, 0, 0, 1, 0, 0, 2, 1, 0, 0, 0, 2, 1, 1, 0,\n",
       "       0])"
      ]
     },
     "execution_count": 16,
     "metadata": {},
     "output_type": "execute_result"
    }
   ],
   "source": [
    "ypred = mdl.predict(X_test)\n",
    "ypred_label = np.argmax(ypred, axis = 1) \n",
    "ypred_label"
   ]
  },
  {
   "cell_type": "code",
   "execution_count": null,
   "metadata": {
    "colab": {
     "base_uri": "https://localhost:8080/"
    },
    "id": "5zRwX7eqWbn6",
    "outputId": "92e8597f-d704-4c68-aae1-6e65388ab46d"
   },
   "outputs": [
    {
     "name": "stdout",
     "output_type": "stream",
     "text": [
      "2/2 [==============================] - 0s 12ms/step - loss: 0.0114 - accuracy: 1.0000\n"
     ]
    },
    {
     "data": {
      "text/plain": [
       "[0.011370454914867878, 1.0]"
      ]
     },
     "execution_count": 17,
     "metadata": {},
     "output_type": "execute_result"
    }
   ],
   "source": [
    "mdl.evaluate(X_test,y_test)"
   ]
  },
  {
   "cell_type": "markdown",
   "metadata": {
    "id": "_ScdbDDLbN2t"
   },
   "source": [
    "## Overfitting in Deep Learning"
   ]
  },
  {
   "cell_type": "code",
   "execution_count": null,
   "metadata": {
    "colab": {
     "base_uri": "https://localhost:8080/"
    },
    "id": "xoewNEqWbQOd",
    "outputId": "5da5ca14-e758-4a26-9e99-c68c3be0c7d1"
   },
   "outputs": [
    {
     "name": "stderr",
     "output_type": "stream",
     "text": [
      "/usr/local/lib/python3.7/dist-packages/sklearn/utils/deprecation.py:87: FutureWarning: Function load_boston is deprecated; `load_boston` is deprecated in 1.0 and will be removed in 1.2.\n",
      "\n",
      "    The Boston housing prices dataset has an ethical problem. You can refer to\n",
      "    the documentation of this function for further details.\n",
      "\n",
      "    The scikit-learn maintainers therefore strongly discourage the use of this\n",
      "    dataset unless the purpose of the code is to study and educate about\n",
      "    ethical issues in data science and machine learning.\n",
      "\n",
      "    In this special case, you can fetch the dataset from the original\n",
      "    source::\n",
      "\n",
      "        import pandas as pd\n",
      "        import numpy as np\n",
      "\n",
      "\n",
      "        data_url = \"http://lib.stat.cmu.edu/datasets/boston\"\n",
      "        raw_df = pd.read_csv(data_url, sep=\"\\s+\", skiprows=22, header=None)\n",
      "        data = np.hstack([raw_df.values[::2, :], raw_df.values[1::2, :2]])\n",
      "        target = raw_df.values[1::2, 2]\n",
      "\n",
      "    Alternative datasets include the California housing dataset (i.e.\n",
      "    :func:`~sklearn.datasets.fetch_california_housing`) and the Ames housing\n",
      "    dataset. You can load the datasets as follows::\n",
      "\n",
      "        from sklearn.datasets import fetch_california_housing\n",
      "        housing = fetch_california_housing()\n",
      "\n",
      "    for the California housing dataset and::\n",
      "\n",
      "        from sklearn.datasets import fetch_openml\n",
      "        housing = fetch_openml(name=\"house_prices\", as_frame=True)\n",
      "\n",
      "    for the Ames housing dataset.\n",
      "    \n",
      "  warnings.warn(msg, category=FutureWarning)\n"
     ]
    },
    {
     "data": {
      "text/plain": [
       "(354, 13)"
      ]
     },
     "execution_count": 40,
     "metadata": {},
     "output_type": "execute_result"
    }
   ],
   "source": [
    "from sklearn.datasets import load_boston\n",
    "\n",
    "data = load_boston()\n",
    "\n",
    "X = data[\"data\"]\n",
    "y = data[\"target\"]\n",
    "\n",
    "X_train, X_test, y_train, y_test = train_test_split(X, y, test_size=0.3, random_state=42)\n",
    "\n",
    "mu = X_train.mean(axis = 0)\n",
    "sigma = X_train.std(axis = 0)\n",
    "\n",
    "X_train = (X_train - mu) / sigma\n",
    "X_test = (X_test - mu) / sigma\n",
    "X_train.shape"
   ]
  },
  {
   "cell_type": "code",
   "execution_count": null,
   "metadata": {
    "colab": {
     "base_uri": "https://localhost:8080/"
    },
    "id": "wSayGBn3ueNh",
    "outputId": "997570cf-0521-4988-f944-46ee8496a70c"
   },
   "outputs": [
    {
     "name": "stdout",
     "output_type": "stream",
     "text": [
      "5/5 [==============================] - 0s 3ms/step - loss: 11.7561 - mape: 11.5736\n"
     ]
    },
    {
     "data": {
      "text/plain": [
       "[11.756093978881836, 11.573563575744629]"
      ]
     },
     "execution_count": 41,
     "metadata": {},
     "output_type": "execute_result"
    }
   ],
   "source": [
    "mdl = keras.Sequential()\n",
    "\n",
    "mdl.add(layers.Dense(512, activation=\"relu\", input_shape = (X_train.shape[1], ) ))  \n",
    "mdl.add(layers.Dense(256, activation = \"relu\"))\n",
    "mdl.add(layers.Dense(128, activation = \"relu\"))\n",
    "mdl.add(layers.Dense(64, activation = \"relu\"))\n",
    "mdl.add(layers.Dense(1, activation = \"linear\"))\n",
    "\n",
    "early_stop = keras.callbacks.EarlyStopping(monitor = \"val_loss\", patience=30)  \n",
    "\n",
    "mdl.compile(optimizer=\"adam\", loss = \"mse\", metrics = [\"mape\"])\n",
    "history = mdl.fit(X_train, y_train, epochs=1000, verbose = 0, validation_split=0.1, callbacks=[early_stop]) \n",
    "\n",
    "mdl.evaluate(X_test, y_test)\n"
   ]
  },
  {
   "cell_type": "code",
   "execution_count": null,
   "metadata": {
    "colab": {
     "base_uri": "https://localhost:8080/",
     "height": 286
    },
    "id": "q9Psqe4IuwJC",
    "outputId": "59d9f4f3-54ad-4a85-c1fe-aadba209c2de"
   },
   "outputs": [
    {
     "data": {
      "text/plain": [
       "(0.0, 20.0)"
      ]
     },
     "execution_count": 42,
     "metadata": {},
     "output_type": "execute_result"
    },
    {
     "data": {
      "image/png": "[encoded data removed]",
      "text/plain": [
       "<Figure size 864x288 with 2 Axes>"
      ]
     },
     "metadata": {
      "needs_background": "light"
     },
     "output_type": "display_data"
    }
   ],
   "source": [
    "plt.figure(figsize = (12,4))\n",
    "plt.subplot(1,2,1)\n",
    "plt.plot(history.history[\"loss\"])\n",
    "plt.plot(history.history[\"val_loss\"])\n",
    "plt.ylim([0,20])\n",
    "\n",
    "plt.subplot(1,2,2)\n",
    "plt.plot(history.history[\"mape\"])\n",
    "plt.plot(history.history[\"val_mape\"])\n",
    "plt.ylim([0,20])\n"
   ]
  },
  {
   "cell_type": "code",
   "execution_count": null,
   "metadata": {
    "colab": {
     "base_uri": "https://localhost:8080/"
    },
    "id": "DYLRD9iEbk-b",
    "outputId": "bf4b538d-f8c4-4438-b966-49ee2340ece8"
   },
   "outputs": [
    {
     "name": "stdout",
     "output_type": "stream",
     "text": [
      "12/12 [==============================] - 0s 3ms/step - loss: 4.5853 - mape: 7.8464\n",
      "5/5 [==============================] - 0s 3ms/step - loss: 9.9702 - mape: 10.8025\n"
     ]
    },
    {
     "data": {
      "text/plain": [
       "[9.970231056213379, 10.802522659301758]"
      ]
     },
     "execution_count": 44,
     "metadata": {},
     "output_type": "execute_result"
    }
   ],
   "source": [
    "# dropout method.\n",
    "mdl = keras.Sequential()\n",
    "\n",
    "mdl.add(layers.Dense(512, activation=\"relu\", input_shape = (X_train.shape[1], ) ))  \n",
    "mdl.add(layers.Dropout(0.2)) \n",
    "mdl.add(layers.Dense(256, activation = \"relu\"))\n",
    "mdl.add(layers.Dropout(0.2)) \n",
    "mdl.add(layers.Dense(128, activation = \"relu\"))\n",
    "mdl.add(layers.Dropout(0.2))\n",
    "mdl.add(layers.Dense(64, activation = \"relu\"))\n",
    "mdl.add(layers.Dense(1, activation = \"linear\"))\n",
    "\n",
    "early_stop = keras.callbacks.EarlyStopping(monitor = \"val_loss\", patience=30)  \n",
    "\n",
    "mdl.compile(optimizer=\"adam\", loss = \"mse\", metrics = [\"mape\"])\n",
    "history = mdl.fit(X_train, y_train, epochs=1000, verbose = 0, validation_split=0.1, callbacks=[early_stop])\n",
    "mdl.evaluate(X_train,y_train)\n",
    "mdl.evaluate(X_test, y_test)\n"
   ]
  },
  {
   "cell_type": "code",
   "execution_count": null,
   "metadata": {
    "colab": {
     "base_uri": "https://localhost:8080/",
     "height": 286
    },
    "id": "O2OeuGcGdOA5",
    "outputId": "89c0f23d-6c13-4e7a-a041-dff4430c0eef"
   },
   "outputs": [
    {
     "data": {
      "text/plain": [
       "(0.0, 20.0)"
      ]
     },
     "execution_count": 34,
     "metadata": {},
     "output_type": "execute_result"
    },
    {
     "data": {
      "image/png": "[encoded data removed]",
      "text/plain": [
       "<Figure size 864x288 with 2 Axes>"
      ]
     },
     "metadata": {
      "needs_background": "light"
     },
     "output_type": "display_data"
    }
   ],
   "source": [
    "plt.figure(figsize = (12,4))\n",
    "plt.subplot(1,2,1)\n",
    "plt.plot(history.history[\"loss\"])\n",
    "plt.plot(history.history[\"val_loss\"])\n",
    "plt.ylim([0,20])\n",
    "\n",
    "plt.subplot(1,2,2)\n",
    "plt.plot(history.history[\"mape\"])\n",
    "plt.plot(history.history[\"val_mape\"])\n",
    "plt.ylim([0,20])\n"
   ]
  }
 ],
 "metadata": {
  "accelerator": "GPU",
  "colab": {
   "name": "notvar-Deep_Learning.ipynb",
   "provenance": []
  },
  "kernelspec": {
   "display_name": "Python 3 (ipykernel)",
   "language": "python",
   "name": "python3"
  },
  "language_info": {
   "codemirror_mode": {
    "name": "ipython",
    "version": 3
   },
   "file_extension": ".py",
   "mimetype": "text/x-python",
   "name": "python",
   "nbconvert_exporter": "python",
   "pygments_lexer": "ipython3",
   "version": "3.9.7"
  }
 },
 "nbformat": 4,
 "nbformat_minor": 1
}
